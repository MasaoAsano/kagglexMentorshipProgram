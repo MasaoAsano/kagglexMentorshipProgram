{
  "nbformat": 4,
  "nbformat_minor": 0,
  "metadata": {
    "colab": {
      "provenance": [],
      "authorship_tag": "ABX9TyMEkqhN8ZBmHTEnTIz3kQXD",
      "include_colab_link": true
    },
    "kernelspec": {
      "name": "python3",
      "display_name": "Python 3"
    },
    "language_info": {
      "name": "python"
    }
  },
  "cells": [
    {
      "cell_type": "markdown",
      "metadata": {
        "id": "view-in-github",
        "colab_type": "text"
      },
      "source": [
        "<a href=\"https://colab.research.google.com/github/MasaoAsano/kagglexMentorshipProgram/blob/main/visionApi.ipynb\" target=\"_parent\"><img src=\"https://colab.research.google.com/assets/colab-badge.svg\" alt=\"Open In Colab\"/></a>"
      ]
    },
    {
      "cell_type": "code",
      "execution_count": null,
      "metadata": {
        "id": "ZOKNj7sAjqCh"
      },
      "outputs": [],
      "source": [
        "!pip install --upgrade google-cloud-vision"
      ]
    },
    {
      "cell_type": "code",
      "source": [
        "from google.colab import drive\n",
        "drive.mount('/content/gdrive')"
      ],
      "metadata": {
        "id": "C9MpMkjrjukD"
      },
      "execution_count": null,
      "outputs": []
    },
    {
      "cell_type": "code",
      "source": [
        "!mkdir \"/content/gdrive/My Drive/cloudVisionTrial\"\n",
        "!mkdir \"/content/gdrive/My Drive/cloudVisionTrial/images\""
      ],
      "metadata": {
        "id": "eJvJtWZ5nMW-"
      },
      "execution_count": null,
      "outputs": []
    },
    {
      "cell_type": "code",
      "source": [
        "%cd \"./gdrive/My Drive/cloudVisionTrial\""
      ],
      "metadata": {
        "id": "wqfCOkdVnlLg"
      },
      "execution_count": null,
      "outputs": []
    },
    {
      "cell_type": "code",
      "source": [
        "import glob\n",
        "\n",
        "src_files = glob.glob('/content/gdrive/My Drive/cloudVisionTrial/images/*.jpeg')\n",
        "src_files.sort()\n",
        "\n",
        "for f in src_files:\n",
        "    print(f)"
      ],
      "metadata": {
        "id": "Q6ayjjWK5bAL"
      },
      "execution_count": null,
      "outputs": []
    },
    {
      "cell_type": "code",
      "source": [
        "import os\n",
        "import os.path\n",
        "import errno\n",
        "\n",
        "from googleapiclient import discovery\n",
        "from oauth2client.client import GoogleCredentials\n",
        "\n",
        "cred_path = '/content/gdrive/My Drive/cloudVisionTrial/visionapitrial-401002-dff8a7a32b09.json'\n",
        "\n",
        "if os.path.exists(cred_path) == False:\n",
        "  raise FileNotFoundError(errno.ENOENT, os.strerror(errno.ENOENT), cred_path)\n",
        "\n",
        "os.environ[\"GOOGLE_APPLICATION_CREDENTIALS\"] = cred_path\n"
      ],
      "metadata": {
        "id": "myvzO5YeFzwz"
      },
      "execution_count": null,
      "outputs": []
    },
    {
      "cell_type": "code",
      "source": [
        "import io\n",
        "from google.cloud import vision\n",
        "from google.cloud.vision_v1 import types\n",
        "\n",
        "objects = {}\n",
        "\n",
        "client = vision.ImageAnnotatorClient()\n",
        "\n",
        "for file in src_files:\n",
        "  with io.open(file, 'rb') as image_file:\n",
        "      content = image_file.read()\n",
        "\n",
        "  image = types.Image(content=content)\n",
        "  res = client.object_localization(\n",
        "        image=image).localized_object_annotations\n",
        "  objects[file] = res"
      ],
      "metadata": {
        "id": "K_ywXwAmgBBx"
      },
      "execution_count": null,
      "outputs": []
    },
    {
      "cell_type": "code",
      "source": [
        "from matplotlib import pyplot as plt\n",
        "\n",
        "from PIL import Image\n",
        "from PIL import ImageDraw\n",
        "\n",
        "def draw_object_boxes(f, objects):\n",
        "    im = Image.open(f)\n",
        "    w, h = im.size\n",
        "    draw = ImageDraw.Draw(im)\n",
        "    for obj in objects:\n",
        "      if(obj.name=='License plate'):\n",
        "        color = '#ffffff'\n",
        "        box = [(v.x * w, v.y * h) for v in obj.bounding_poly.normalized_vertices]\n",
        "\n",
        "        left = min([v.x * w for v in obj.bounding_poly.normalized_vertices])\n",
        "        right = max([v.x * w for v in obj.bounding_poly.normalized_vertices])\n",
        "        lower = min([v.y * h for v in obj.bounding_poly.normalized_vertices])\n",
        "        upper = max([v.y * h for v in obj.bounding_poly.normalized_vertices])\n",
        "\n",
        "        ImageDraw.Draw(im).rectangle(((left, upper), (right, lower)), fill=color)\n",
        "    return im\n",
        "\n",
        "# for file in files:\n",
        "for file in src_files:\n",
        "  plt.figure(figsize=(10,6))\n",
        "  plt.imshow(draw_object_boxes(file, objects[file]))\n",
        "plt.show()\n"
      ],
      "metadata": {
        "id": "j-Gpmd2IlALD"
      },
      "execution_count": null,
      "outputs": []
    }
  ]
}